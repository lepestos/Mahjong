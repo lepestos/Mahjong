{
 "cells": [
  {
   "cell_type": "code",
   "execution_count": 1,
   "metadata": {},
   "outputs": [
    {
     "data": {
      "text/plain": [
       "0      None\n",
       "1      None\n",
       "2      None\n",
       "3      None\n",
       "4      None\n",
       "       ... \n",
       "624    None\n",
       "625    None\n",
       "626    None\n",
       "627    None\n",
       "628    None\n",
       "Length: 629, dtype: object"
      ]
     },
     "execution_count": 1,
     "metadata": {},
     "output_type": "execute_result"
    }
   ],
   "source": [
    "from PIL import Image, ImageChops\n",
    "import os\n",
    "import numpy as np\n",
    "import pandas as pd\n",
    "\n",
    "def CreateOffsetImage(row):\n",
    "    im = Image.open(os.path.join('images',row['image-name']))\n",
    "    offset_im = ImageChops.offset(im, 20, 5)\n",
    "    offset_im.save(os.path.join(\"offsetImages\",row['image-name']))\n",
    "\n",
    "#im = Image.open(os.path.join('images','1.jpg'))\n",
    "#offset_im = ImageChops.offset(im, 10, 0)\n",
    "#offset_im.save(os.path.join(\"offsetImages\",\"offset.png\"))\n",
    "data = pd.read_csv(\"data.csv\")\n",
    "data.apply(lambda row: CreateOffsetImage(row), axis=1)"
   ]
  },
  {
   "cell_type": "code",
   "execution_count": null,
   "metadata": {},
   "outputs": [],
   "source": []
  }
 ],
 "metadata": {
  "kernelspec": {
   "display_name": "Python 3",
   "language": "python",
   "name": "python3"
  },
  "language_info": {
   "codemirror_mode": {
    "name": "ipython",
    "version": 3
   },
   "file_extension": ".py",
   "mimetype": "text/x-python",
   "name": "python",
   "nbconvert_exporter": "python",
   "pygments_lexer": "ipython3",
   "version": "3.7.4"
  }
 },
 "nbformat": 4,
 "nbformat_minor": 4
}
